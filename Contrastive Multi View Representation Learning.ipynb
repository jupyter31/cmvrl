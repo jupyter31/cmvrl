{
 "cells": [
  {
   "cell_type": "code",
   "execution_count": null,
   "metadata": {
    "gather": {
     "logged": 1611764660759
    }
   },
   "outputs": [],
   "source": [
    "from cmvrl.dataset import load\n",
    "from cmvrl.train import train\n",
    "from cmvrl.model import Model\n",
    "from cmvrl.eval import evaluate_node_classification"
   ]
  },
  {
   "cell_type": "code",
   "execution_count": 3,
   "metadata": {
    "collapsed": true,
    "gather": {
     "logged": 1611764661815
    },
    "jupyter": {
     "outputs_hidden": false,
     "source_hidden": false
    },
    "nteract": {
     "transient": {
      "deleting": false
     }
    }
   },
   "outputs": [],
   "source": [
    "import torch\n",
    "import numpy as np"
   ]
  },
  {
   "cell_type": "code",
   "execution_count": 4,
   "metadata": {
    "collapsed": true,
    "gather": {
     "logged": 1611764662511
    },
    "jupyter": {
     "outputs_hidden": false,
     "source_hidden": false
    },
    "nteract": {
     "transient": {
      "deleting": false
     }
    }
   },
   "outputs": [],
   "source": [
    "dataset = 'citeseer'"
   ]
  },
  {
   "cell_type": "code",
   "execution_count": 5,
   "metadata": {
    "collapsed": true,
    "gather": {
     "logged": 1611764668696
    },
    "jupyter": {
     "outputs_hidden": false,
     "source_hidden": false
    },
    "nteract": {
     "transient": {
      "deleting": false
     }
    }
   },
   "outputs": [
    {
     "name": "stderr",
     "output_type": "stream",
     "text": [
      "/mnt/batch/tasks/shared/LS_root/mounts/clusters/dsvm-gpu/code/Users/kateryna.solonko/mvgrl/utils.py:49: RuntimeWarning: divide by zero encountered in power\n",
      "  r_inv = np.power(rowsum, -1).flatten()\n"
     ]
    }
   ],
   "source": [
    "adj, diff, features, labels, idx_train, idx_val, idx_test = load(dataset)"
   ]
  },
  {
   "cell_type": "code",
   "execution_count": 6,
   "metadata": {
    "collapsed": true,
    "gather": {
     "logged": 1611764671304
    },
    "jupyter": {
     "outputs_hidden": false,
     "source_hidden": false
    },
    "nteract": {
     "transient": {
      "deleting": false
     }
    }
   },
   "outputs": [],
   "source": [
    "hid_units = 512\n",
    "ft_size = features.shape[1]"
   ]
  },
  {
   "cell_type": "code",
   "execution_count": 11,
   "metadata": {
    "collapsed": true,
    "gather": {
     "logged": 1611765127475
    },
    "jupyter": {
     "outputs_hidden": false,
     "source_hidden": false
    },
    "nteract": {
     "transient": {
      "deleting": false
     }
    }
   },
   "outputs": [],
   "source": [
    "model = Model(ft_size, hid_units)"
   ]
  },
  {
   "cell_type": "code",
   "execution_count": 9,
   "metadata": {
    "collapsed": true,
    "gather": {
     "logged": 1611764944825
    },
    "jupyter": {
     "outputs_hidden": false,
     "source_hidden": false
    },
    "nteract": {
     "transient": {
      "deleting": false
     }
    }
   },
   "outputs": [
    {
     "name": "stdout",
     "output_type": "stream",
     "text": [
      "Epoch: 0, Loss: 0.6931\n",
      "Epoch: 1, Loss: 0.6932\n",
      "Epoch: 2, Loss: 0.6894\n",
      "Epoch: 3, Loss: 0.6890\n",
      "Epoch: 4, Loss: 0.6843\n",
      "Epoch: 5, Loss: 0.6802\n",
      "Epoch: 6, Loss: 0.6762\n",
      "Epoch: 7, Loss: 0.6701\n",
      "Epoch: 8, Loss: 0.6646\n",
      "Epoch: 9, Loss: 0.6553\n",
      "Epoch: 10, Loss: 0.6515\n",
      "Epoch: 11, Loss: 0.6401\n",
      "Epoch: 12, Loss: 0.6279\n",
      "Epoch: 13, Loss: 0.6180\n",
      "Epoch: 14, Loss: 0.6202\n",
      "Epoch: 15, Loss: 0.6045\n",
      "Epoch: 16, Loss: 0.5841\n",
      "Epoch: 17, Loss: 0.5724\n",
      "Epoch: 18, Loss: 0.5624\n",
      "Epoch: 19, Loss: 0.5604\n",
      "Epoch: 20, Loss: 0.5405\n",
      "Epoch: 21, Loss: 0.5322\n",
      "Epoch: 22, Loss: 0.5152\n",
      "Epoch: 23, Loss: 0.4961\n",
      "Epoch: 24, Loss: 0.4967\n",
      "Epoch: 25, Loss: 0.4884\n",
      "Epoch: 26, Loss: 0.4791\n",
      "Epoch: 27, Loss: 0.4747\n",
      "Epoch: 28, Loss: 0.4512\n",
      "Epoch: 29, Loss: 0.4633\n",
      "Epoch: 30, Loss: 0.4285\n",
      "Epoch: 31, Loss: 0.4162\n",
      "Epoch: 32, Loss: 0.4048\n",
      "Epoch: 33, Loss: 0.4014\n",
      "Epoch: 34, Loss: 0.3882\n",
      "Epoch: 35, Loss: 0.3767\n",
      "Epoch: 36, Loss: 0.3760\n",
      "Epoch: 37, Loss: 0.3608\n",
      "Epoch: 38, Loss: 0.3631\n",
      "Epoch: 39, Loss: 0.3385\n",
      "Epoch: 40, Loss: 0.3516\n",
      "Epoch: 41, Loss: 0.3338\n",
      "Epoch: 42, Loss: 0.3200\n",
      "Epoch: 43, Loss: 0.3353\n",
      "Epoch: 44, Loss: 0.3159\n",
      "Epoch: 45, Loss: 0.3197\n",
      "Epoch: 46, Loss: 0.2931\n",
      "Epoch: 47, Loss: 0.2985\n",
      "Epoch: 48, Loss: 0.2940\n",
      "Epoch: 49, Loss: 0.2938\n",
      "Epoch: 50, Loss: 0.2852\n",
      "Epoch: 51, Loss: 0.2864\n",
      "Epoch: 52, Loss: 0.2792\n",
      "Epoch: 53, Loss: 0.2762\n",
      "Epoch: 54, Loss: 0.2721\n",
      "Epoch: 55, Loss: 0.2648\n",
      "Epoch: 56, Loss: 0.2768\n",
      "Epoch: 57, Loss: 0.2769\n",
      "Epoch: 58, Loss: 0.2678\n",
      "Epoch: 59, Loss: 0.2838\n",
      "Epoch: 60, Loss: 0.2992\n",
      "Epoch: 61, Loss: 0.2523\n",
      "Epoch: 62, Loss: 0.2659\n",
      "Epoch: 63, Loss: 0.2569\n",
      "Epoch: 64, Loss: 0.2581\n",
      "Epoch: 65, Loss: 0.2516\n",
      "Epoch: 66, Loss: 0.2559\n",
      "Epoch: 67, Loss: 0.2499\n",
      "Epoch: 68, Loss: 0.2643\n",
      "Epoch: 69, Loss: 0.2573\n",
      "Epoch: 70, Loss: 0.2501\n",
      "Epoch: 71, Loss: 0.2646\n",
      "Epoch: 72, Loss: 0.2393\n",
      "Epoch: 73, Loss: 0.2491\n",
      "Epoch: 74, Loss: 0.2355\n",
      "Epoch: 75, Loss: 0.2242\n",
      "Epoch: 76, Loss: 0.2281\n",
      "Epoch: 77, Loss: 0.2240\n",
      "Epoch: 78, Loss: 0.2321\n",
      "Epoch: 79, Loss: 0.2242\n",
      "Epoch: 80, Loss: 0.2137\n",
      "Epoch: 81, Loss: 0.2262\n",
      "Epoch: 82, Loss: 0.2197\n",
      "Epoch: 83, Loss: 0.2123\n",
      "Epoch: 84, Loss: 0.2227\n",
      "Epoch: 85, Loss: 0.2036\n",
      "Epoch: 86, Loss: 0.2236\n",
      "Epoch: 87, Loss: 0.2230\n",
      "Epoch: 88, Loss: 0.2154\n",
      "Epoch: 89, Loss: 0.2161\n",
      "Epoch: 90, Loss: 0.2118\n",
      "Epoch: 91, Loss: 0.2210\n",
      "Epoch: 92, Loss: 0.2144\n",
      "Epoch: 93, Loss: 0.2014\n",
      "Epoch: 94, Loss: 0.2076\n",
      "Epoch: 95, Loss: 0.2085\n",
      "Epoch: 96, Loss: 0.2170\n",
      "Epoch: 97, Loss: 0.1973\n",
      "Epoch: 98, Loss: 0.2190\n",
      "Epoch: 99, Loss: 0.2141\n",
      "Epoch: 100, Loss: 0.1963\n",
      "Epoch: 101, Loss: 0.2002\n",
      "Epoch: 102, Loss: 0.2281\n",
      "Epoch: 103, Loss: 0.1985\n",
      "Epoch: 104, Loss: 0.2206\n",
      "Epoch: 105, Loss: 0.2088\n",
      "Epoch: 106, Loss: 0.1903\n",
      "Epoch: 107, Loss: 0.2243\n",
      "Epoch: 108, Loss: 0.2195\n",
      "Epoch: 109, Loss: 0.2023\n",
      "Epoch: 110, Loss: 0.1904\n",
      "Epoch: 111, Loss: 0.2232\n",
      "Epoch: 112, Loss: 0.2010\n",
      "Epoch: 113, Loss: 0.1993\n",
      "Epoch: 114, Loss: 0.1986\n",
      "Epoch: 115, Loss: 0.2119\n",
      "Epoch: 116, Loss: 0.2026\n",
      "Epoch: 117, Loss: 0.2102\n",
      "Epoch: 118, Loss: 0.1911\n",
      "Epoch: 119, Loss: 0.1912\n",
      "Epoch: 120, Loss: 0.1962\n",
      "Epoch: 121, Loss: 0.1916\n",
      "Epoch: 122, Loss: 0.1885\n",
      "Epoch: 123, Loss: 0.1892\n",
      "Epoch: 124, Loss: 0.1897\n",
      "Epoch: 125, Loss: 0.1936\n",
      "Epoch: 126, Loss: 0.2033\n",
      "Epoch: 127, Loss: 0.2031\n",
      "Epoch: 128, Loss: 0.1966\n",
      "Epoch: 129, Loss: 0.1826\n",
      "Epoch: 130, Loss: 0.1827\n",
      "Epoch: 131, Loss: 0.1922\n",
      "Epoch: 132, Loss: 0.1853\n",
      "Epoch: 133, Loss: 0.1777\n",
      "Epoch: 134, Loss: 0.2010\n",
      "Epoch: 135, Loss: 0.2063\n",
      "Epoch: 136, Loss: 0.1863\n",
      "Epoch: 137, Loss: 0.1847\n",
      "Epoch: 138, Loss: 0.1871\n",
      "Epoch: 139, Loss: 0.2017\n",
      "Epoch: 140, Loss: 0.1836\n",
      "Epoch: 141, Loss: 0.1901\n",
      "Epoch: 142, Loss: 0.1907\n",
      "Epoch: 143, Loss: 0.1941\n",
      "Epoch: 144, Loss: 0.2018\n",
      "Epoch: 145, Loss: 0.1910\n",
      "Epoch: 146, Loss: 0.1983\n",
      "Epoch: 147, Loss: 0.1781\n",
      "Epoch: 148, Loss: 0.1796\n",
      "Epoch: 149, Loss: 0.1829\n",
      "Epoch: 150, Loss: 0.1867\n",
      "Epoch: 151, Loss: 0.1904\n",
      "Epoch: 152, Loss: 0.1879\n",
      "Epoch: 153, Loss: 0.1855\n",
      "Early stopping!\n",
      "Loading 133th epoch\n"
     ]
    }
   ],
   "source": [
    "model = train(model, adj, diff, features, save_to_pickle='model_refactored.pkl', verbose=True)"
   ]
  },
  {
   "cell_type": "code",
   "execution_count": 12,
   "metadata": {
    "collapsed": true,
    "gather": {
     "logged": 1611765131571
    },
    "jupyter": {
     "outputs_hidden": false,
     "source_hidden": false
    },
    "nteract": {
     "transient": {
      "deleting": false
     }
    }
   },
   "outputs": [
    {
     "data": {
      "text/plain": [
       "<All keys matched successfully>"
      ]
     },
     "execution_count": 12,
     "metadata": {},
     "output_type": "execute_result"
    }
   ],
   "source": [
    "model.load_state_dict(torch.load('model_refactored.pkl'))"
   ]
  },
  {
   "cell_type": "code",
   "execution_count": 10,
   "metadata": {
    "collapsed": true,
    "gather": {
     "logged": 1604500117766
    },
    "jupyter": {
     "outputs_hidden": false,
     "source_hidden": false
    },
    "nteract": {
     "transient": {
      "deleting": false
     }
    }
   },
   "outputs": [
    {
     "name": "stdout",
     "output_type": "stream",
     "text": [
      "72.39996337890625 0.0\n"
     ]
    }
   ],
   "source": [
    "evaluate_node_classification(model, dataset, adj, diff, features, labels, idx_train, idx_val, idx_test)"
   ]
  },
  {
   "cell_type": "code",
   "execution_count": 15,
   "metadata": {
    "collapsed": true,
    "gather": {
     "logged": 1611765214636
    },
    "jupyter": {
     "outputs_hidden": false,
     "source_hidden": false
    },
    "nteract": {
     "transient": {
      "deleting": false
     }
    }
   },
   "outputs": [],
   "source": [
    "features = torch.FloatTensor(features[np.newaxis])\n",
    "adj = torch.FloatTensor(adj[np.newaxis])\n",
    "diff = torch.FloatTensor(diff[np.newaxis])"
   ]
  },
  {
   "cell_type": "code",
   "execution_count": 16,
   "metadata": {
    "collapsed": true,
    "gather": {
     "logged": 1611765216462
    },
    "jupyter": {
     "outputs_hidden": false,
     "source_hidden": false
    },
    "nteract": {
     "transient": {
      "deleting": false
     }
    }
   },
   "outputs": [],
   "source": [
    "embeds, _ = model.embed(features, adj, diff, False, None)"
   ]
  },
  {
   "cell_type": "code",
   "execution_count": 17,
   "metadata": {
    "collapsed": true,
    "gather": {
     "logged": 1611765232785
    },
    "jupyter": {
     "outputs_hidden": false,
     "source_hidden": false
    },
    "nteract": {
     "transient": {
      "deleting": false
     }
    }
   },
   "outputs": [
    {
     "data": {
      "text/plain": [
       "tensor([[[-0.0044,  0.0004, -0.0022,  ..., -0.0085, -0.0013, -0.0047],\n",
       "         [-0.0046,  0.0013, -0.0020,  ..., -0.0079, -0.0062, -0.0067],\n",
       "         [-0.0023,  0.0065,  0.0039,  ..., -0.0086, -0.0030,  0.0101],\n",
       "         ...,\n",
       "         [ 0.0031,  0.0049, -0.0037,  ..., -0.0081,  0.0051, -0.0016],\n",
       "         [-0.0068, -0.0061,  0.0041,  ..., -0.0094, -0.0037, -0.0082],\n",
       "         [-0.0039,  0.0158,  0.0089,  ..., -0.0087, -0.0039, -0.0026]]])"
      ]
     },
     "execution_count": 17,
     "metadata": {},
     "output_type": "execute_result"
    }
   ],
   "source": [
    "embeds"
   ]
  },
  {
   "cell_type": "code",
   "execution_count": 18,
   "metadata": {
    "collapsed": true,
    "gather": {
     "logged": 1611765259674
    },
    "jupyter": {
     "outputs_hidden": false,
     "source_hidden": false
    },
    "nteract": {
     "transient": {
      "deleting": false
     }
    }
   },
   "outputs": [],
   "source": [
    "torch.save(embeds, 'embeds-1.pt')"
   ]
  },
  {
   "cell_type": "code",
   "execution_count": 19,
   "metadata": {
    "collapsed": true,
    "gather": {
     "logged": 1604494327877
    },
    "jupyter": {
     "outputs_hidden": false,
     "source_hidden": false
    },
    "nteract": {
     "transient": {
      "deleting": false
     }
    }
   },
   "outputs": [
    {
     "data": {
      "text/plain": [
       "array([3, 1, 5, ..., 3, 1, 5])"
      ]
     },
     "execution_count": 19,
     "metadata": {},
     "output_type": "execute_result"
    }
   ],
   "source": [
    "labels"
   ]
  },
  {
   "cell_type": "code",
   "execution_count": 20,
   "metadata": {
    "collapsed": true,
    "gather": {
     "logged": 1604494392698
    },
    "jupyter": {
     "outputs_hidden": false,
     "source_hidden": false
    },
    "nteract": {
     "transient": {
      "deleting": false
     }
    }
   },
   "outputs": [],
   "source": [
    "label_names = ['Agents', 'AI', 'DB', 'IR', 'ML', 'HCI']"
   ]
  },
  {
   "cell_type": "code",
   "execution_count": 26,
   "metadata": {
    "collapsed": true,
    "gather": {
     "logged": 1604494513693
    },
    "jupyter": {
     "outputs_hidden": false,
     "source_hidden": false
    },
    "nteract": {
     "transient": {
      "deleting": false
     }
    }
   },
   "outputs": [],
   "source": [
    "l = [label_names[i] for i in labels]"
   ]
  },
  {
   "cell_type": "code",
   "execution_count": null,
   "metadata": {
    "collapsed": true,
    "jupyter": {
     "outputs_hidden": false,
     "source_hidden": false
    },
    "nteract": {
     "transient": {
      "deleting": false
     }
    }
   },
   "outputs": [],
   "source": []
  }
 ],
 "metadata": {
  "kernel_info": {
   "name": "python3-azureml"
  },
  "kernelspec": {
   "display_name": "Python [conda env:aml_int_env] *",
   "language": "python",
   "name": "conda-env-aml_int_env-py"
  },
  "language_info": {
   "codemirror_mode": {
    "name": "ipython",
    "version": 3
   },
   "file_extension": ".py",
   "mimetype": "text/x-python",
   "name": "python",
   "nbconvert_exporter": "python",
   "pygments_lexer": "ipython3",
   "version": "3.6.12"
  },
  "nteract": {
   "version": "nteract-front-end@1.0.0"
  }
 },
 "nbformat": 4,
 "nbformat_minor": 2
}
